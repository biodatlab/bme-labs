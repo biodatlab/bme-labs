{
 "cells": [
  {
   "cell_type": "markdown",
   "metadata": {},
   "source": [
    "# Connecting Ollama using Lanchain & Clean transcript\n",
    "\n",
    "This Jupyter notebook demonstrates how to leverage Ollama, a powerful local large language model, in conjunction with Langchain to clean and process transcription data. Here, we assume that you run model on Ollama in the background i.e. `ollama serve`"
   ]
  },
  {
   "cell_type": "code",
   "execution_count": null,
   "metadata": {},
   "outputs": [],
   "source": [
    "%%capture\n",
    "!pip install langchain\n",
    "!pip install langchain_community"
   ]
  },
  {
   "cell_type": "code",
   "execution_count": null,
   "metadata": {},
   "outputs": [],
   "source": [
    "import io\n",
    "import pandas as pd\n",
    "from langchain_community.llms import Ollama\n",
    "from langchain import PromptTemplate # Added\n",
    "\n",
    "llm = Ollama(model=\"llama3.1\", stop=[\"<|eot_id|>\"]) # Added stop token\n",
    "\n",
    "def get_model_response(user_prompt, system_prompt):\n",
    "    # NOTE: No f string and no whitespace in curly braces\n",
    "    template = \"\"\"\n",
    "        <|begin_of_text|>\n",
    "        <|start_header_id|>system<|end_header_id|>\n",
    "        {system_prompt}\n",
    "        <|eot_id|>\n",
    "        <|start_header_id|>user<|end_header_id|>\n",
    "        {user_prompt}\n",
    "        <|eot_id|>\n",
    "        <|start_header_id|>assistant<|end_header_id|>\n",
    "        \"\"\"\n",
    "\n",
    "    # Added prompt template\n",
    "    prompt = PromptTemplate(\n",
    "        input_variables=[\"system_prompt\", \"user_prompt\"],\n",
    "        template=template\n",
    "    )\n",
    "    \n",
    "    # Modified invoking the model\n",
    "    response = llm(prompt.format(system_prompt=system_prompt, user_prompt=user_prompt))\n",
    "    \n",
    "    return response"
   ]
  },
  {
   "cell_type": "code",
   "execution_count": null,
   "metadata": {},
   "outputs": [],
   "source": [
    "def dataframe_to_csv_string(df):\n",
    "    # Convert DataFrame to CSV string\n",
    "    csv_buffer = io.StringIO()\n",
    "    df.to_csv(csv_buffer, index=False)\n",
    "    csv_string = csv_buffer.getvalue()\n",
    "    return csv_string\n",
    "\n",
    "\n",
    "def get_cleanup_prompt(csv_content):\n",
    "    prompt = f\"\"\"\n",
    "    You are an expert in processing and cleaning transcription data. Your task is to analyze and improve the following CSV content from a Whisper transcription, which contains columns: text, start, stop.\n",
    "\n",
    "    Here's a sample of the CSV content:\n",
    "    {csv_content}  # Show first 500 characters as an example\n",
    "\n",
    "    Please perform the following tasks:\n",
    "    1. Clean up the text:\n",
    "       - Correct any obvious spelling or grammatical errors in both Thai and English.\n",
    "       - Remove any unnecessary symbols or characters.\n",
    "       - For technical terms, in general, spell it in English\n",
    "       - Ensure proper capitalization and punctuation.\n",
    "\n",
    "    2. Cluster the text:\n",
    "       - Group consecutive sentences that belong together semantically in Thai.\n",
    "       - For Thai text, consider the following:\n",
    "         * Thai doesn't use spaces between words, so focus on complete ideas rather than word count.\n",
    "         * Look for natural breaks in speech, such as pauses or topic changes.\n",
    "       - Aim for shorter clusters:\n",
    "         * Target 2-5 seconds of speech per cluster.\n",
    "         * Limit each cluster to a maximum of 50-70 Thai characters.\n",
    "         * If a single sentence or idea exceeds this limit, consider breaking it at a logical point.\n",
    "         * Something like ๆ should not locate at the beginning of sentence.\n",
    "       - Merge the 'start' times of the first item in a cluster and the 'stop' time of the last item.\n",
    "\n",
    "    3. Handle bilingual content:\n",
    "       - If a sentence switches between Thai and English, keep them together in the same cluster.\n",
    "       - Ensure that Thai and English text are properly separated and not mixed within words.\n",
    "\n",
    "    4. Timing adjustments:\n",
    "       - Round 'start' and 'stop' times to the nearest tenth of a second.\n",
    "       - Ensure there are no overlaps or gaps in timing between entries.\n",
    "\n",
    "    5. Format the output:\n",
    "       - Maintain the CSV format with columns: text, start, stop.\n",
    "       - Ensure all text is properly enclosed in quotes if necessary.\n",
    "\n",
    "    Please provide the cleaned and clustered CSV content, maintaining the original column structure. Do not include any explanations or comments in the output, just the processed CSV data.\n",
    "    \"\"\"\n",
    "    return prompt\n",
    "\n",
    "\n",
    "def process_transcription(csv_content):\n",
    "    system_prompt = \"You are a helpful assistant designed to process and clean up transcription data.\"\n",
    "    user_prompt = get_cleanup_prompt(csv_content)\n",
    "    response = get_model_response(user_prompt, system_prompt)\n",
    "    return response"
   ]
  },
  {
   "cell_type": "code",
   "execution_count": null,
   "metadata": {},
   "outputs": [],
   "source": [
    "# Read CSV to pandas, process transcription, get the cleaned transcript --> You may need to chunk transcripts\n",
    "transcripts = pd.read_csv(\"content.csv\")\n",
    "csv_content = dataframe_to_csv_string(transcripts)\n",
    "cleaned_csv = process_transcription(csv_content)\n",
    "transcripts_cleaned = pd.read_csv(io.StringIO(cleaned_csv))\n",
    "transcripts_cleaned.iloc[:50]"
   ]
  },
  {
   "cell_type": "markdown",
   "metadata": {},
   "source": [
    "### TODOs: Write a prompt to summarize the transcribed text\n",
    "\n",
    "- Reference: https://www.reddit.com/r/ChatGPT/comments/11twe7z/prompt_to_summarize/"
   ]
  }
 ],
 "metadata": {
  "kernelspec": {
   "display_name": "Python 3",
   "language": "python",
   "name": "python3"
  },
  "language_info": {
   "codemirror_mode": {
    "name": "ipython",
    "version": 3
   },
   "file_extension": ".py",
   "mimetype": "text/x-python",
   "name": "python",
   "nbconvert_exporter": "python",
   "pygments_lexer": "ipython3",
   "version": "3.8.8"
  }
 },
 "nbformat": 4,
 "nbformat_minor": 2
}
